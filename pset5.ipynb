{
 "cells": [
  {
   "cell_type": "markdown",
   "metadata": {},
   "source": [
    "# Problem Set 5, due June 1 at 11:59 pm.\n",
    "\n",
    "As usual, you are highly encouraged to *start this problem set early!*  My best guess (no guarantees!) is that Part 1 will be conceptually easy but perhaps time consuming.  Parts 2 and 3 are medium difficult, but there are plenty of opportunities to get confused with python data structures, so if you're going to get stuck, get stuck (and unstuck) early! Part 4 will give you an opportunity to get some intuition with PCA.\n",
    "\n",
    "Note that the two extra credit problems have the potential to be quite challenging and time consuming. Make sure to do everything else in the problem set before you tackle the extra credit.\n",
    "\n",
    "To get started, download the files \"reviews.csv\" and \"movies.dat\" from Canvas.\n",
    "\n",
    "For this assignment, the following libraries may be useful:\n",
    "\n",
    "* [numpy](http://docs.scipy.org/doc/numpy-dev/user/index.html), for arrays\n",
    "* [scikit-learn](http://scikit-learn.org/stable/), for machine learning\n",
    "* [pandas](http://pandas.pydata.org/), for data frames\n",
    "* [matplotlib](http://matplotlib.org/), for plotting\n",
    "\n",
    "In particular, I suggest you familiarize yourself with the following aspects of these libraries, which are not required but which might make your life easier:\n",
    "\n",
    "* `DataFrame` and other basic [data structures](http://pandas.pydata.org/pandas-docs/stable/dsintro.html) in pandas\n",
    "* [`groupby`](http://pandas.pydata.org/pandas-docs/stable/groupby.html), `unique`,  and other simple aggregation functions\n",
    "* [`CountVectorizer`](http://scikit-learn.org/stable/modules/generated/sklearn.feature_extraction.text.CountVectorizer.html) for working with text in sklearn.\n",
    "* [`MultinomialNB`](http://scikit-learn.org/stable/modules/generated/sklearn.naive_bayes.MultinomialNB.html) for Naive Bayes\n",
    "* Simple tools for [Cross-Validation](http://scikit-learn.org/stable/modules/cross_validation.html) in sklearn\n",
    "\n",
    "Make sure they load properly with the following code block:"
   ]
  },
  {
   "cell_type": "code",
   "execution_count": 1,
   "metadata": {},
   "outputs": [
    {
     "name": "stderr",
     "output_type": "stream",
     "text": [
      "/anaconda/envs/python3/lib/python3.6/site-packages/sklearn/cross_validation.py:44: DeprecationWarning: This module was deprecated in version 0.18 in favor of the model_selection module into which all the refactored classes and functions are moved. Also note that the interface of the new CV iterators are different from that of this module. This module will be removed in 0.20.\n",
      "  \"This module will be removed in 0.20.\", DeprecationWarning)\n"
     ]
    }
   ],
   "source": [
    "%matplotlib inline\n",
    "import pandas as pd\n",
    "import numpy as np\n",
    "import matplotlib.pyplot as plt\n",
    "\n",
    "from nltk.corpus import stopwords\n",
    "from nltk.tokenize import word_tokenize\n",
    "\n",
    "#hint: Consult the scikit-learn documentation to\n",
    "#      learn about what these classes do do\n",
    "from  sklearn.cross_validation import cross_val_score\n",
    "from sklearn.cross_validation import train_test_split\n",
    "from sklearn.naive_bayes import MultinomialNB\n",
    "from sklearn.feature_extraction.text import CountVectorizer\n",
    "import statsmodels.formula.api as smf\n",
    "from sklearn.metrics import mean_squared_error\n",
    "from sklearn.preprocessing import StandardScaler\n",
    "from sklearn.decomposition import PCA"
   ]
  },
  {
   "cell_type": "markdown",
   "metadata": {},
   "source": [
    "## Introduction to the assignment\n",
    "\n",
    "In this assignment, you'll be analyzing movie reviews in an attempt to determine whether movies are good or bad.  I've downloaded a large number of movie reviews from the [Rotten Tomatoes](http://www.rottentomatoes.com) website, which are available in the file \"reviews.csv\" on Canvas.  I've also put a file \"movies.dat\" on Canvas that contains metadata for ~65,000 different movies\n",
    "\n",
    "If you've never seen Rotten Tomatoes before, go spend a few minutes familiarizing yourself with the website.  It's a meta-review website that aggregates movie reviews from a large number of critics.  Here's what the page for this year's likely [Oscar winner](http://www.rottentomatoes.com/m/the_revenant_2015/) looks like.  Note in particular the section on \"Critic Reviews\" at the bottom -- that's the content that has been scraped and put in the reviews.csv file.  Also note that each movie is given a quantitative score on the Tomatometer which is used to classify the movie as either Fresh (good) or Rotten (bad).\n",
    "\n",
    "Your mission is to develop a classifier to determine whether a movie is Fresh or Rotten based on the contents of the reviews given to the movie.  As usual, we'll start out with some exploratory data analysis."
   ]
  },
  {
   "cell_type": "markdown",
   "metadata": {},
   "source": [
    "---\n",
    "\n",
    "## Part 1: Descriptive analysis\n",
    "\n",
    "Before beginning the \"real\" work, dig into the data a bit do see what you're dealing with.  Begin by loading the datasets and dropping rows that have missing data:"
   ]
  },
  {
   "cell_type": "code",
   "execution_count": 236,
   "metadata": {},
   "outputs": [],
   "source": [
    "reviews = pd.read_csv('reviews.csv')\n",
    "movies = pd.read_csv(\"movies.dat\", delimiter='\\t')\n",
    "\n",
    "reviews = reviews[~reviews.quote.isnull()]\n",
    "reviews = reviews[reviews.fresh != 'none']\n",
    "reviews = reviews[reviews.quote.str.len() > 0]\n",
    "\n",
    "reviews.quote = reviews.quote.str.replace('[^\\w\\s]', '')\n",
    "reviews.quote = reviews.quote.str.replace('[0-9]', '')"
   ]
  },
  {
   "cell_type": "markdown",
   "metadata": {},
   "source": [
    "### 1.1: Basic features of the dataset\n",
    "\n",
    "Answer the following questions by having your python code directly print the answers:\n",
    "\n",
    "* How many unique reviews (quotes) are in the `reviews` dataset?\n",
    "* How many unique reviewers (critics) are in the `reviews` dataset?\n",
    "* How many unique movies are in the `reviews` dataset?\n",
    "* How many unique movies are in the *`movies`* dataset?\n",
    "* How many different publications have reviews in the `reviews` dataset?\n"
   ]
  },
  {
   "cell_type": "code",
   "execution_count": 237,
   "metadata": {},
   "outputs": [
    {
     "name": "stdout",
     "output_type": "stream",
     "text": [
      "Number of reviews: 13419\n",
      "Number of unique quotes:  12813\n",
      "Number of unique critics:  541\n",
      "Number of unique movies:  9405\n",
      "Number of different publications have reviews:  64\n"
     ]
    }
   ],
   "source": [
    "# enter your code below\n",
    "\n",
    "print (\"Number of reviews: %i\" % len(reviews))\n",
    "print(\"Number of unique quotes: \", len(reviews.quote.unique()))\n",
    "print(\"Number of unique critics: \", len(reviews.critic.unique()))\n",
    "print(\"Number of unique movies: \", len(movies.title.unique()))\n",
    "print(\"Number of different publications have reviews: \", len(reviews.publication.unique()))\n"
   ]
  },
  {
   "cell_type": "markdown",
   "metadata": {},
   "source": [
    "### 1.2 Number of reviews per reviewer\n",
    "\n",
    "Using the `reviews` dataset, create a histogram showing the distribution of the number of reviews per reviewer.  Create the bin width (x-axis) to be 1 unit wide, and the range of the axis to be from 0 to 30.  Scale the y-axis to show the logarithm of (count of) the number of reviews.  Label your axes and make your histogram look professional."
   ]
  },
  {
   "cell_type": "code",
   "execution_count": 257,
   "metadata": {},
   "outputs": [
    {
     "data": {
      "image/png": "[encoded data removed]",
      "text/plain": [
       "<matplotlib.figure.Figure at 0x11ada9048>"
      ]
     },
     "metadata": {},
     "output_type": "display_data"
    }
   ],
   "source": [
    "# enter your code here\n",
    "# plots graph, changes color, changes bins to $1000\n",
    "temp = reviews.groupby('critic').count()\n",
    "temp = temp['quote']\n",
    "\n",
    "\n",
    "\n",
    "plt.hist(temp, log = True, range = (0,30))\n",
    "axes = plt.gca()\n",
    "#axes.set_ylim([0,1200])\n"
   ]
  },
  {
   "cell_type": "markdown",
   "metadata": {},
   "source": [
    "### 1.3 Zoom in on a few reviewers\n",
    "Find the 30 critics with the most reviews, and list their names in a table along with (a) the name of the publication they work for, (b) the date of their first review, and (c) the date of their last review\n",
    "\n",
    "*hint: use the groupby function to do this quickly*"
   ]
  },
  {
   "cell_type": "code",
   "execution_count": 148,
   "metadata": {},
   "outputs": [
    {
     "data": {
      "text/html": [
       "<div>\n",
       "<style>\n",
       "    .dataframe thead tr:only-child th {\n",
       "        text-align: right;\n",
       "    }\n",
       "\n",
       "    .dataframe thead th {\n",
       "        text-align: left;\n",
       "    }\n",
       "\n",
       "    .dataframe tbody tr th {\n",
       "        vertical-align: top;\n",
       "    }\n",
       "</style>\n",
       "<table border=\"1\" class=\"dataframe\">\n",
       "  <thead>\n",
       "    <tr style=\"text-align: right;\">\n",
       "      <th></th>\n",
       "      <th>Bosley Crowther</th>\n",
       "      <th>Dave Kehr</th>\n",
       "      <th>Derek Adams</th>\n",
       "      <th>Desson Thomson</th>\n",
       "      <th>Edward Guthmann</th>\n",
       "      <th>Emanuel Levy</th>\n",
       "      <th>Geoff Andrew</th>\n",
       "      <th>Hal Hinson</th>\n",
       "      <th>James Berardinelli</th>\n",
       "      <th>Janet Maslin</th>\n",
       "      <th>...</th>\n",
       "      <th>Richard Corliss</th>\n",
       "      <th>Richard Schickel</th>\n",
       "      <th>Rick Groen</th>\n",
       "      <th>Rita Kempley</th>\n",
       "      <th>Roger Ebert</th>\n",
       "      <th>Stephen Holden</th>\n",
       "      <th>Susan Stark</th>\n",
       "      <th>Todd McCarthy</th>\n",
       "      <th>Variety Staff</th>\n",
       "      <th>Vincent Canby</th>\n",
       "    </tr>\n",
       "  </thead>\n",
       "  <tbody>\n",
       "    <tr>\n",
       "      <th>0</th>\n",
       "      <td>[New York Times]</td>\n",
       "      <td>[Chicago Reader, New York Daily News, Chicago ...</td>\n",
       "      <td>[Time Out]</td>\n",
       "      <td>[Washington Post]</td>\n",
       "      <td>[San Francisco Chronicle]</td>\n",
       "      <td>[Variety]</td>\n",
       "      <td>[Time Out]</td>\n",
       "      <td>[Washington Post]</td>\n",
       "      <td>[ReelViews]</td>\n",
       "      <td>[New York Times]</td>\n",
       "      <td>...</td>\n",
       "      <td>[TIME Magazine]</td>\n",
       "      <td>[TIME Magazine, The Atlantic]</td>\n",
       "      <td>[Globe and Mail]</td>\n",
       "      <td>[Washington Post]</td>\n",
       "      <td>[Chicago Sun-Times, At the Movies]</td>\n",
       "      <td>[New York Times]</td>\n",
       "      <td>[Detroit News]</td>\n",
       "      <td>[Variety]</td>\n",
       "      <td>[Variety]</td>\n",
       "      <td>[New York Times]</td>\n",
       "    </tr>\n",
       "    <tr>\n",
       "      <th>1</th>\n",
       "      <td>2000-01-01 00:00:00</td>\n",
       "      <td>2000-01-01 00:00:00</td>\n",
       "      <td>2006-01-26 00:00:00</td>\n",
       "      <td>2000-01-01 00:00:00</td>\n",
       "      <td>2000-01-01 00:00:00</td>\n",
       "      <td>2000-01-01 00:00:00</td>\n",
       "      <td>2005-08-11 00:00:00</td>\n",
       "      <td>2000-01-01 00:00:00</td>\n",
       "      <td>1800-01-01 00:00:00</td>\n",
       "      <td>2000-01-01 00:00:00</td>\n",
       "      <td>...</td>\n",
       "      <td>2003-12-16 00:00:00</td>\n",
       "      <td>2000-01-01 00:00:00</td>\n",
       "      <td>2002-03-19 00:00:00</td>\n",
       "      <td>2000-01-01 00:00:00</td>\n",
       "      <td>2000-01-01 00:00:00</td>\n",
       "      <td>2000-01-01 00:00:00</td>\n",
       "      <td>2000-01-01 00:00:00</td>\n",
       "      <td>2000-01-01 00:00:00</td>\n",
       "      <td>2001-02-13 00:00:00</td>\n",
       "      <td>2000-01-01 00:00:00</td>\n",
       "    </tr>\n",
       "    <tr>\n",
       "      <th>2</th>\n",
       "      <td>2008-05-06 00:00:00</td>\n",
       "      <td>2013-11-20 00:00:00</td>\n",
       "      <td>2009-10-04 00:00:00</td>\n",
       "      <td>2012-10-08 00:00:00</td>\n",
       "      <td>2003-04-04 00:00:00</td>\n",
       "      <td>2010-08-06 00:00:00</td>\n",
       "      <td>2012-04-05 00:00:00</td>\n",
       "      <td>2013-06-26 00:00:00</td>\n",
       "      <td>2012-02-07 00:00:00</td>\n",
       "      <td>2010-09-07 00:00:00</td>\n",
       "      <td>...</td>\n",
       "      <td>2013-11-06 00:00:00</td>\n",
       "      <td>2013-08-05 00:00:00</td>\n",
       "      <td>2009-08-14 00:00:00</td>\n",
       "      <td>2013-11-02 00:00:00</td>\n",
       "      <td>2013-06-11 00:00:00</td>\n",
       "      <td>2009-02-06 00:00:00</td>\n",
       "      <td>2002-10-25 00:00:00</td>\n",
       "      <td>2012-10-09 00:00:00</td>\n",
       "      <td>2012-08-15 00:00:00</td>\n",
       "      <td>2013-07-29 00:00:00</td>\n",
       "    </tr>\n",
       "  </tbody>\n",
       "</table>\n",
       "<p>3 rows × 30 columns</p>\n",
       "</div>"
      ],
      "text/plain": [
       "       Bosley Crowther                                          Dave Kehr  \\\n",
       "0     [New York Times]  [Chicago Reader, New York Daily News, Chicago ...   \n",
       "1  2000-01-01 00:00:00                                2000-01-01 00:00:00   \n",
       "2  2008-05-06 00:00:00                                2013-11-20 00:00:00   \n",
       "\n",
       "           Derek Adams       Desson Thomson            Edward Guthmann  \\\n",
       "0           [Time Out]    [Washington Post]  [San Francisco Chronicle]   \n",
       "1  2006-01-26 00:00:00  2000-01-01 00:00:00        2000-01-01 00:00:00   \n",
       "2  2009-10-04 00:00:00  2012-10-08 00:00:00        2003-04-04 00:00:00   \n",
       "\n",
       "          Emanuel Levy         Geoff Andrew           Hal Hinson  \\\n",
       "0            [Variety]           [Time Out]    [Washington Post]   \n",
       "1  2000-01-01 00:00:00  2005-08-11 00:00:00  2000-01-01 00:00:00   \n",
       "2  2010-08-06 00:00:00  2012-04-05 00:00:00  2013-06-26 00:00:00   \n",
       "\n",
       "    James Berardinelli         Janet Maslin         ...           \\\n",
       "0          [ReelViews]     [New York Times]         ...            \n",
       "1  1800-01-01 00:00:00  2000-01-01 00:00:00         ...            \n",
       "2  2012-02-07 00:00:00  2010-09-07 00:00:00         ...            \n",
       "\n",
       "       Richard Corliss               Richard Schickel           Rick Groen  \\\n",
       "0      [TIME Magazine]  [TIME Magazine, The Atlantic]     [Globe and Mail]   \n",
       "1  2003-12-16 00:00:00            2000-01-01 00:00:00  2002-03-19 00:00:00   \n",
       "2  2013-11-06 00:00:00            2013-08-05 00:00:00  2009-08-14 00:00:00   \n",
       "\n",
       "          Rita Kempley                         Roger Ebert  \\\n",
       "0    [Washington Post]  [Chicago Sun-Times, At the Movies]   \n",
       "1  2000-01-01 00:00:00                 2000-01-01 00:00:00   \n",
       "2  2013-11-02 00:00:00                 2013-06-11 00:00:00   \n",
       "\n",
       "        Stephen Holden          Susan Stark        Todd McCarthy  \\\n",
       "0     [New York Times]       [Detroit News]            [Variety]   \n",
       "1  2000-01-01 00:00:00  2000-01-01 00:00:00  2000-01-01 00:00:00   \n",
       "2  2009-02-06 00:00:00  2002-10-25 00:00:00  2012-10-09 00:00:00   \n",
       "\n",
       "         Variety Staff        Vincent Canby  \n",
       "0            [Variety]     [New York Times]  \n",
       "1  2001-02-13 00:00:00  2000-01-01 00:00:00  \n",
       "2  2012-08-15 00:00:00  2013-07-29 00:00:00  \n",
       "\n",
       "[3 rows x 30 columns]"
      ]
     },
     "execution_count": 148,
     "metadata": {},
     "output_type": "execute_result"
    }
   ],
   "source": [
    "# enter your code here\n",
    "temp = reviews.groupby('critic').count()\n",
    "df = temp.nlargest(30, 'quote')\n",
    "names = df.index\n",
    "storage = {}\n",
    "for name in names:\n",
    "    df = reviews.loc[reviews['critic'] == name]\n",
    "    pub = df.publication.unique()\n",
    "    datef = df.review_date.min()\n",
    "    datel = df.review_date.max()\n",
    "    a_list = [pub, datef, datel]\n",
    "    storage[name] = a_list\n",
    "    \n",
    "df = pd.DataFrame.from_dict(storage)\n",
    "df"
   ]
  },
  {
   "cell_type": "markdown",
   "metadata": {},
   "source": [
    "### 1.4 Ratings over time\n",
    "\n",
    "Using the `movies` dataset, create a plot that shows how the average rating per movie (rtAllCriticsRating) has evolved over time.  Do this by creating a scatterplot where the x-axis is the year in which the movie was released and the y-axis is rtAllCriticsRating.  Drop movies with 0 or unknown values to avoid biasing your results.  Then, create a scatterplot that has one <year,rating> point for each remaining movie, and pick an appropriate size/color/transparency for these points to ensure that the graph looks professional.  In other words, do not simply use the default settings, as this will produce a dense mess of dots that will be hard to interpret.  Finally, overlay on this scatterplot a line graph in orange showing how the average movie rating (the average of rtAllCriticsRating across all movies in a year) has changed over time.  Do you notice a trend?  What do you think it means?"
   ]
  },
  {
   "cell_type": "code",
   "execution_count": 111,
   "metadata": {},
   "outputs": [
    {
     "data": {
      "image/png": "[encoded data removed]",
      "text/plain": [
       "<matplotlib.figure.Figure at 0x116ee33c8>"
      ]
     },
     "metadata": {},
     "output_type": "display_data"
    }
   ],
   "source": [
    "# enter your code here\n",
    "# getting rid of unknows and 0 values\n",
    "movies = movies[movies['rtAllCriticsRating'] != '\\\\N']\n",
    "movies = movies[movies['rtAllCriticsRating'] != '0']\n",
    "\n",
    "\n",
    "# changing movie data into float values\n",
    "movies_float = movies.copy()\n",
    "params = ['rtAllCriticsRating', 'rtAllCriticsNumReviews', 'rtAllCriticsNumFresh',\n",
    "'rtAllCriticsNumRotten','rtAllCriticsScore','rtTopCriticsRating','rtTopCriticsNumReviews',\n",
    "'rtTopCriticsNumFresh','rtTopCriticsNumRotten','rtTopCriticsScore','rtAudienceRating',\n",
    "'rtAudienceNumRatings','rtAudienceScore']\n",
    "def makeFloats(df, params):\n",
    "    for param in params:\n",
    "        df[param] = pd.to_numeric(df['rtAllCriticsRating'], errors='coerce')\n",
    "\n",
    "# changing movies values into floats \n",
    "makeFloats(movies_float, params)  \n",
    "\n",
    "by_year = movies_float.groupby('year')['rtAllCriticsRating'].mean()\n",
    "\n",
    "# scatter plots\n",
    "ax = plt.axes()\n",
    "ax.scatter(movies.year, movies.rtAllCriticsRating.apply(float), s = 3, alpha = .2, color = 'deepskyblue')\n",
    "\n",
    "# for drawing the line \n",
    "ax.plot(by_year, color = 'orange')\n",
    "\n",
    "plt.title('Average rating of movies over time')\n",
    "plt.xlabel('Years ')\n",
    "plt.ylabel('Average rating')\n",
    "\n",
    "ax.spines['right'].set_visible(False)\n",
    "ax.spines['top'].set_visible(False)\n",
    "\n",
    "\n",
    "\n",
    "\n",
    "\n"
   ]
  },
  {
   "cell_type": "code",
   "execution_count": 112,
   "metadata": {
    "collapsed": true
   },
   "outputs": [],
   "source": [
    "\n",
    "\n"
   ]
  },
  {
   "cell_type": "markdown",
   "metadata": {},
   "source": [
    "There are a lot more reviews in the last 30 years. The average review is also slightly lower. Perhaps more movies have been produced, and movie expectations have increased. "
   ]
  },
  {
   "cell_type": "markdown",
   "metadata": {},
   "source": [
    "---\n",
    "\n",
    "## Part 2: Naive Bayes\n",
    "\n",
    "Now it gets fun!  You are going to use a [Naive Bayes classifier](https://en.wikipedia.org/wiki/Naive_Bayes_classifier) to build a prediction model for whether a review is fresh or rotten, depending on the text of the review. Review the assigned readings on Canvas, as well as the relevant lecture notes before embarking on this journey.\n",
    "\n",
    "### Using CountVectorizer\n",
    "\n",
    "One thing that may help you in the following problems is the [CountVectorizer](http://scikit-learn.org/stable/modules/generated/sklearn.feature_extraction.text.CountVectorizer.html) object in Scikit-learn.  This will help you convert your raw text fields into \"bag of words\" vectors, i.e. a data structure that tells you how many times a particular word appears in a blurb.  Here's a simple example, make sure you understand what's going on!"
   ]
  },
  {
   "cell_type": "code",
   "execution_count": 238,
   "metadata": {},
   "outputs": [
    {
     "name": "stdout",
     "output_type": "stream",
     "text": [
      "(13419,)\n"
     ]
    }
   ],
   "source": [
    "# X, Y = make_xy(reviews)\n",
    "# print(X.shape, Y.shape)\n",
    "import io\n",
    "import nltk\n",
    "from nltk.corpus import stopwords\n",
    "from nltk.tokenize import word_tokenize\n",
    "import re\n",
    "import string\n",
    "\n",
    "stop_words = set(stopwords.words('english'))\n",
    "exclude = set(string.punctuation)\n",
    "\n",
    "# cleaning quotes before extracting features\n",
    "\n",
    "result = []\n",
    "lines = np.array(reviews.quote)\n",
    "print(lines.shape)\n",
    "for row in lines:\n",
    "    # break into lines and remove leading and trailing space on each\n",
    "    lines = (line.strip() for line in row.splitlines())\n",
    "    # break multi-headlines into a line each\n",
    "    chunks = (phrase.strip() for line in lines for phrase in line.split(\"  \"))\n",
    "    # drop blank lines\n",
    "    text = '\\n '.join(chunk for chunk in chunks if chunk)\n",
    "    text = text.replace('\\\\n', ' ').replace('\\\\t', ' ').replace(\"\\n\", ' ').replace('\\\\b', ' ')\n",
    "    # gets rid of escape characters\n",
    "    text = bytes(text, \"utf-8\").decode(\"unicode_escape\")\n",
    "    # gets rid of links \n",
    "    text = re.sub(r'\\w+:\\/{2}[\\d\\w-]+(\\.[\\d\\w-]+)*(?:(?:\\/[^\\s/]*))*', '', text)\n",
    "    # getting rid of punctuation \n",
    "    text = ''.join(ch for ch in text if ch not in exclude)\n",
    "    # make text lower case\n",
    "    text = text.lower()\n",
    "\n",
    "    # remove stop words before csv was written\n",
    "    text = word_tokenize(text)\n",
    "    resultwords  = [word for word in text if word not in stop_words]\n",
    "    text = ' '.join(resultwords)\n",
    "    result.append(text)\n",
    "\n",
    "# adding clean words to reviews df\n",
    "clean = np.array(result)\n",
    "clean.size\n",
    "reviews['clean'] = clean\n",
    "\n",
    "# getting rid of null, empty rows in \"clean\" column\n",
    "reviews = reviews[~reviews.clean.isnull()]\n",
    "reviews = reviews[reviews.clean.str.len() > 0]\n",
    "reviews = reviews.dropna()"
   ]
  },
  {
   "cell_type": "code",
   "execution_count": 114,
   "metadata": {},
   "outputs": [
    {
     "name": "stdout",
     "output_type": "stream",
     "text": [
      "Original text is\n",
      " machine learning rocks\n",
      "machine learning rules\n",
      "rocks rocks rules\n",
      "\n",
      "Transformed text vector is \n",
      " [[1 1 1 0]\n",
      " [1 1 0 1]\n",
      " [0 0 2 1]]\n",
      "\n",
      "Words for each feature:\n",
      "['learning', 'machine', 'rocks', 'rules']\n"
     ]
    }
   ],
   "source": [
    "from sklearn.feature_extraction.text import CountVectorizer\n",
    "\n",
    "text = ['machine learning rocks', 'machine learning rules', 'rocks rocks rules']\n",
    "print(\"Original text is\\n\", '\\n'.join(text))\n",
    "\n",
    "vectorizer = CountVectorizer(min_df=0)\n",
    "\n",
    "# call `fit` to build the vocabulary\n",
    "vectorizer.fit(text)\n",
    "\n",
    "# call `transform` to convert text to a bag of words\n",
    "x = vectorizer.transform(text)\n",
    "\n",
    "# CountVectorizer uses a sparse array to save memory, but it's easier in this assignment to \n",
    "# convert back to a \"normal\" numpy array\n",
    "x = x.toarray()\n",
    "\n",
    "print()\n",
    "print (\"Transformed text vector is \\n\", x)\n",
    "\n",
    "# `get_feature_names` tracks which word is associated with each column of the transformed x\n",
    "print()\n",
    "print (\"Words for each feature:\")\n",
    "print(vectorizer.get_feature_names())"
   ]
  },
  {
   "cell_type": "markdown",
   "metadata": {},
   "source": [
    "### 2.1 Create your X input and Y output\n",
    "\n",
    "Using the `reviews` dataframe, compute a pair of numerical X, Y arrays where:\n",
    "    \n",
    " * X is a `(nreview, nwords)` array. Each row corresponds to a bag-of-words representation for a single review. This will be the *input* to your model.\n",
    " * Y is a `nreview`-element 1/0 array, encoding whether a review is Fresh (1) or Rotten (0). This is the desired *output* from your model.\n",
    " \n",
    "Make sure to remove items with no review text"
   ]
  },
  {
   "cell_type": "code",
   "execution_count": 91,
   "metadata": {
    "collapsed": true
   },
   "outputs": [],
   "source": [
    "\"\"\"\n",
    "Function\n",
    "--------\n",
    "make_xy\n",
    "\n",
    "Build a bag-of-words training set for the review data\n",
    "\n",
    "Parameters\n",
    "-----------\n",
    "reviews : Pandas DataFrame\n",
    "    The review data from above\n",
    "    \n",
    "vectorizer : CountVectorizer object (optional)\n",
    "    A CountVectorizer object to use. If None,\n",
    "    then create and fit a new CountVectorizer.\n",
    "    Otherwise, re-fit the provided CountVectorizer\n",
    "    using the reviews data\n",
    "    \n",
    "Returns\n",
    "-------\n",
    "X : numpy array (dims: nreview, nwords)\n",
    "    Bag-of-words representation for each review.\n",
    "Y : numpy array (dims: nreview)\n",
    "    1/0 array. 1 = fresh review, 0 = rotten review\n",
    "\n",
    "Examples\n",
    "--------\n",
    "X, Y = make_xy(reviews)\n",
    "\n",
    "\"\"\"\n",
    "from string import digits\n",
    "import string\n",
    "\n",
    "# removing punction and numbers from quotes\n",
    "\n",
    "\n",
    "# so runs on my computer\n",
    "#n_reviews = reviews[0:1000]\n",
    "vec = CountVectorizer(min_df=0)\n",
    "def make_xy(reviews, vec=None):\n",
    "    if vec == None:\n",
    "        vec = CountVectorizer(min_df=0, stop_words='english')\n",
    "    X = vec.fit(reviews.clean)\n",
    "    X = vec.transform(reviews.clean)\n",
    "    X = pd.DataFrame(X.toarray(), columns=vec.get_feature_names())\n",
    "    X = X.fillna(0)\n",
    "    X = np.array(X)\n",
    "    Y = reviews.fresh.replace('fresh',1).replace('rotten',0) \n",
    "    Y = np.array(Y)\n",
    "    return X, Y\n"
   ]
  },
  {
   "cell_type": "code",
   "execution_count": 92,
   "metadata": {},
   "outputs": [],
   "source": [
    "X,Y = make_xy(reviews)\n"
   ]
  },
  {
   "cell_type": "markdown",
   "metadata": {},
   "source": [
    "### 2.2 Test-Train split\n",
    "\n",
    "Next, randomly split the data into two groups: a training set and a validation set.  You can do this manually, as you did in the prior problem set.  Or, use [`train_test_split`](http://scikit-learn.org/stable/modules/generated/sklearn.cross_validation.train_test_split.html) to do this auto-magically.  See [this guide](http://scikit-learn.org/stable/modules/cross_validation.html) for a simple example of how `train_test_split` works."
   ]
  },
  {
   "cell_type": "code",
   "execution_count": 93,
   "metadata": {},
   "outputs": [],
   "source": [
    "# enter your code here\n",
    "# splitting test and train data\n",
    "X_train, X_test, y_train, y_test = train_test_split(X, Y, random_state = 12345, test_size=0.33)\n"
   ]
  },
  {
   "cell_type": "markdown",
   "metadata": {},
   "source": [
    "### 2.3 Naive Bayes with `MultinomialNB`\n",
    "Use the training set to train a Naive Bayes classifier using the [`MultinomialNB`](http://scikit-learn.org/stable/modules/generated/sklearn.naive_bayes.MultinomialNB.html)\n",
    " object.  Report the accuracy of this model on both the training and testing data.  What do you observe?  Interpret these results!\n",
    "\n",
    "*Hint: This shouldn't take more than 5-10 lines of code to accomplish*\n",
    "\n"
   ]
  },
  {
   "cell_type": "code",
   "execution_count": 94,
   "metadata": {},
   "outputs": [
    {
     "name": "stdout",
     "output_type": "stream",
     "text": [
      "accuracy score of train data:  0.939443727262\n",
      "accuracy of predictions:  0.769120800572\n"
     ]
    }
   ],
   "source": [
    "# call the fitted model fitted_model, for future reference:\n",
    "fitted_model = MultinomialNB()\n",
    "fitted_model.fit(X_train, y_train)\n",
    "print(\"accuracy score of train data: \", fitted_model.score(X_train, y_train))\n",
    "preds = fitted_model.predict(X_test)\n",
    "\n",
    "# preds score (percentage of the time that the predictions equal the data)\n",
    "accuracy = (preds == y_test).sum()/len(y_test)\n",
    "print(\"accuracy of predictions: \", accuracy)"
   ]
  },
  {
   "cell_type": "markdown",
   "metadata": {},
   "source": [
    "Though the training data had a great score, the model only predicted correctly about 60% of the time. Perhaps too many features? "
   ]
  },
  {
   "cell_type": "markdown",
   "metadata": {},
   "source": [
    "### 2.4 (EXTRA CREDIT) Naive Bayes from Scratch!\n",
    "That was almost too easy, right?  Right.\n",
    "\n",
    "Your next mission, should you choose to accept it, is to write your own Naive Bayes classifier without relying on `MultinomialNB` or a similar pre-written package.  In addition to the lecture notes and assigned readings, I highly recommend that you review Michael Collin’s lecture notes on Naïve Bayes before starting (available on Canvas).  \n",
    "\n",
    "**Note:**\n",
    "You should do this extra credit assignment *after* you have finished the rest of the problem set.  It is very rewarding, but can also be quite time-consuming!\n",
    "\n",
    "*Hint: You will benefit most from this exercise if you attempt to write the algorithm directly from the lecture notes.  That said, if you really get stuck, Krishnamurthy Viswanathan has written a simple version of [NB in python](http://ebiquity.umbc.edu/blogger/2010/12/07/naive-bayes-classifier-in-50-lines/), which you can peek at if you really get stuck.*"
   ]
  },
  {
   "cell_type": "code",
   "execution_count": 95,
   "metadata": {
    "collapsed": true
   },
   "outputs": [],
   "source": [
    "# Your code here"
   ]
  },
  {
   "cell_type": "markdown",
   "metadata": {},
   "source": [
    "---\n",
    "\n",
    "## Part 3: Evaluation\n",
    "\n",
    "### 3.1 Estimate the likelihood of your data\n",
    "\n",
    "Given a fitted model, you can compute the log-likelihood of your data as a way to assess the performance of your model.  Using `fitted_model.predict_logproba`, the idea is to write a function that computes the log-likelihood of a dataset, so that we can inspect the log-likelihood of your training and testing data given your fitted model from part 2.\n",
    "\n",
    "To help you out a little bit, we'll do this part for you. But make sure you understand it, because you'll need to use this later!"
   ]
  },
  {
   "cell_type": "code",
   "execution_count": 96,
   "metadata": {},
   "outputs": [
    {
     "data": {
      "text/plain": [
       "-2428.4677936857561"
      ]
     },
     "execution_count": 96,
     "metadata": {},
     "output_type": "execute_result"
    }
   ],
   "source": [
    "\"\"\"\n",
    "Function\n",
    "--------\n",
    "log_likelihood\n",
    "\n",
    "Compute the log likelihood of a dataset according to a bayesian classifier. \n",
    "The Log Likelihood is defined by\n",
    "\n",
    "L = Sum_fresh(logP(fresh)) + Sum_rotten(logP(rotten))\n",
    "\n",
    "Where Sum_fresh indicates a sum over all fresh reviews, \n",
    "and Sum_rotten indicates a sum over rotten reviews\n",
    "    \n",
    "Parameters\n",
    "----------\n",
    "model : Bayesian classifier\n",
    "x : (nexample, nfeature) array\n",
    "    The input data\n",
    "y : (nexample) integer array\n",
    "    Whether each review is Fresh\n",
    "\"\"\"\n",
    "\n",
    "def log_likelihood_score(estimator, X, y):\n",
    "    prob = estimator.predict_log_proba(X)\n",
    "    rotten = y == 0\n",
    "    fresh = ~rotten\n",
    "    return prob[rotten, 0].sum() + prob[fresh, 1].sum()\n",
    "\n",
    "# output the likelihood of your test data (example - you may need to \n",
    "# chance the nambes of the variables below to match your code in 2.2 and 2.3\n",
    "log_likelihood_score(fitted_model, X_test, y_test)"
   ]
  },
  {
   "cell_type": "markdown",
   "metadata": {},
   "source": [
    "### 3.2 Cross-Validation\n",
    "\n",
    "Why do we care about the log-likelihood of our data?  You guessed it: Cross-Validation.\n",
    "\n",
    "Our classifier has a few hyperparameters. The two most important are:\n",
    "\n",
    " 1. The `min_df` keyword in `CountVectorizer`, which will ignore words which appear in fewer than `min_df` fraction of reviews. Words that appear only once or twice can lead to overfitting, since words which occur only a few times might correlate very well with Fresh/Rotten reviews by chance in the training dataset.\n",
    " \n",
    " 2. The [`alpha` keyword](http://scikit-learn.org/stable/modules/naive_bayes.html#multinomial-naive-bayes) in the Bayesian classifier is a \"smoothing parameter\" -- increasing the value decreases the sensitivity to any single feature, and tends to pull prediction probabilities closer to 50%. \n",
    "\n",
    "How are we are going to use cross-validation to tune these hyperparameters?  The objective function we want to maximize is the log-likelihood of our data.  Fill in the remaining code in this block, to loop over many values of `alpha` and `min_df` to determine\n",
    "which settings are \"best\" in the sense of maximizing the cross-validated log-likelihood.\n",
    "\n",
    "*hint: sklearn has a built-in function, `sklearn.cross_validation.cross_val_score`, that might save you a lot of time here...*"
   ]
  },
  {
   "cell_type": "code",
   "execution_count": 97,
   "metadata": {},
   "outputs": [
    {
     "name": "stderr",
     "output_type": "stream",
     "text": [
      "/anaconda/envs/python3/lib/python3.6/site-packages/sklearn/naive_bayes.py:699: RuntimeWarning: divide by zero encountered in log\n",
      "  self.feature_log_prob_ = (np.log(smoothed_fc) -\n",
      "/anaconda/envs/python3/lib/python3.6/site-packages/sklearn/naive_bayes.py:699: RuntimeWarning: divide by zero encountered in log\n",
      "  self.feature_log_prob_ = (np.log(smoothed_fc) -\n",
      "/anaconda/envs/python3/lib/python3.6/site-packages/sklearn/naive_bayes.py:699: RuntimeWarning: divide by zero encountered in log\n",
      "  self.feature_log_prob_ = (np.log(smoothed_fc) -\n",
      "/anaconda/envs/python3/lib/python3.6/site-packages/sklearn/naive_bayes.py:699: RuntimeWarning: divide by zero encountered in log\n",
      "  self.feature_log_prob_ = (np.log(smoothed_fc) -\n",
      "/anaconda/envs/python3/lib/python3.6/site-packages/sklearn/naive_bayes.py:699: RuntimeWarning: divide by zero encountered in log\n",
      "  self.feature_log_prob_ = (np.log(smoothed_fc) -\n",
      "/anaconda/envs/python3/lib/python3.6/site-packages/sklearn/naive_bayes.py:699: RuntimeWarning: divide by zero encountered in log\n",
      "  self.feature_log_prob_ = (np.log(smoothed_fc) -\n",
      "/anaconda/envs/python3/lib/python3.6/site-packages/sklearn/naive_bayes.py:699: RuntimeWarning: divide by zero encountered in log\n",
      "  self.feature_log_prob_ = (np.log(smoothed_fc) -\n",
      "/anaconda/envs/python3/lib/python3.6/site-packages/sklearn/naive_bayes.py:699: RuntimeWarning: divide by zero encountered in log\n",
      "  self.feature_log_prob_ = (np.log(smoothed_fc) -\n",
      "/anaconda/envs/python3/lib/python3.6/site-packages/sklearn/naive_bayes.py:699: RuntimeWarning: divide by zero encountered in log\n",
      "  self.feature_log_prob_ = (np.log(smoothed_fc) -\n"
     ]
    },
    {
     "name": "stdout",
     "output_type": "stream",
     "text": [
      "[[{'alpha': 1}, 1e-05, -1322.8123754297867], [{'alpha': 1}, 0.0001, -1704.473659983822], [{'alpha': 1}, 0.001, -3493.4038826391889], [{'alpha': 0.1}, 0.01, -5215.7525332461864], [{'alpha': 0}, 0.1, -5650.2824546465081]]\n"
     ]
    }
   ],
   "source": [
    "from sklearn.model_selection import KFold\n",
    "from sklearn.model_selection import cross_val_score\n",
    "from sklearn.metrics import make_scorer\n",
    "from sklearn.model_selection import GridSearchCV\n",
    "\n",
    "#the grid of parameters to search over\n",
    "alphas = [0, .1, 1, 5, 10, 50]\n",
    "min_dfs = [1e-5, 1e-4, 1e-3, 1e-2, 1e-1]\n",
    "\n",
    "#Find the best value for alpha and min_df, and the best classifier\n",
    "# best_alpha = None\n",
    "# best_min_df = None\n",
    "# max_loglike = -np.inf\n",
    "results = []\n",
    "#for alpha in alphas:\n",
    "score = make_scorer(log_likelihood_score)\n",
    "param_grid ={'alpha': alphas }\n",
    "results = []\n",
    "for min_df in min_dfs:  \n",
    "    vectorizer = CountVectorizer(min_df = min_df)       \n",
    "    X, Y = make_xy(reviews, vectorizer)\n",
    "    X_train, X_test, y_train, y_test = train_test_split(X, Y, random_state = 12345, test_size=0.33)\n",
    "    grid = GridSearchCV(MultinomialNB(), param_grid = param_grid, n_jobs=6)\n",
    "    #score = cross_val_score(model, X_train, y_train, cv=KFold(n_splits = 10, shuffle=True, random_state=11))\n",
    "    grid.fit(X_train, y_train)\n",
    "    llh = log_likelihood_score(grid, X_train, y_train)\n",
    "    values = [grid.best_params_ , min_df, llh]\n",
    "    results.append(values)\n",
    "\n",
    "        \n",
    "print(results)\n"
   ]
  },
  {
   "cell_type": "code",
   "execution_count": 98,
   "metadata": {},
   "outputs": [
    {
     "name": "stdout",
     "output_type": "stream",
     "text": [
      "Fitting 3 folds for each of 30 candidates, totalling 90 fits\n"
     ]
    },
    {
     "name": "stderr",
     "output_type": "stream",
     "text": [
      "/anaconda/envs/python3/lib/python3.6/site-packages/sklearn/naive_bayes.py:699: RuntimeWarning: divide by zero encountered in log\n",
      "  self.feature_log_prob_ = (np.log(smoothed_fc) -\n",
      "/anaconda/envs/python3/lib/python3.6/site-packages/sklearn/naive_bayes.py:699: RuntimeWarning: divide by zero encountered in log\n",
      "  self.feature_log_prob_ = (np.log(smoothed_fc) -\n",
      "/anaconda/envs/python3/lib/python3.6/site-packages/sklearn/naive_bayes.py:699: RuntimeWarning: divide by zero encountered in log\n",
      "  self.feature_log_prob_ = (np.log(smoothed_fc) -\n",
      "/anaconda/envs/python3/lib/python3.6/site-packages/sklearn/naive_bayes.py:699: RuntimeWarning: divide by zero encountered in log\n",
      "  self.feature_log_prob_ = (np.log(smoothed_fc) -\n",
      "/anaconda/envs/python3/lib/python3.6/site-packages/sklearn/naive_bayes.py:699: RuntimeWarning: divide by zero encountered in log\n",
      "  self.feature_log_prob_ = (np.log(smoothed_fc) -\n",
      "/anaconda/envs/python3/lib/python3.6/site-packages/sklearn/naive_bayes.py:699: RuntimeWarning: divide by zero encountered in log\n",
      "  self.feature_log_prob_ = (np.log(smoothed_fc) -\n",
      "/anaconda/envs/python3/lib/python3.6/site-packages/sklearn/naive_bayes.py:699: RuntimeWarning: divide by zero encountered in log\n",
      "  self.feature_log_prob_ = (np.log(smoothed_fc) -\n",
      "/anaconda/envs/python3/lib/python3.6/site-packages/sklearn/naive_bayes.py:699: RuntimeWarning: divide by zero encountered in log\n",
      "  self.feature_log_prob_ = (np.log(smoothed_fc) -\n",
      "/anaconda/envs/python3/lib/python3.6/site-packages/sklearn/naive_bayes.py:699: RuntimeWarning: divide by zero encountered in log\n",
      "  self.feature_log_prob_ = (np.log(smoothed_fc) -\n",
      "[Parallel(n_jobs=-1)]: Done  42 tasks      | elapsed:    3.8s\n",
      "[Parallel(n_jobs=-1)]: Done  90 out of  90 | elapsed:    7.6s finished\n"
     ]
    },
    {
     "name": "stdout",
     "output_type": "stream",
     "text": [
      "-1445.58787848\n",
      "accuracy:  0.93287172867\n",
      "pipeline: ['vect', 'model']\n",
      "\tbest parameters for  model__alpha\n",
      "\tmodel__alpha: 1\n",
      "\tbest parameters for  vect__min_df\n",
      "\tvect__min_df: 1e-05\n"
     ]
    }
   ],
   "source": [
    "from sklearn.metrics import make_scorer\n",
    "from sklearn.model_selection import cross_val_score\n",
    "from sklearn.model_selection import GridSearchCV\n",
    "from sklearn.pipeline import make_pipeline\n",
    "from sklearn.pipeline import Pipeline\n",
    "# using grid search\n",
    "# creating parameters for pipeline for cross validation: \n",
    "pipeline = Pipeline([\n",
    "     ('vect', CountVectorizer()),\n",
    "      ('model', MultinomialNB()),\n",
    " ])\n",
    "\n",
    "# parameters to tweek in pipeline\n",
    "param_grid ={'vect__min_df': min_dfs,\n",
    "             'model__alpha': [0, .1, 1, 5, 10, 50]}\n",
    "\n",
    "\n",
    "score = make_scorer(log_likelihood_score)\n",
    "\n",
    "# re-splitting data without converting into CountVector to put into pipeline\n",
    "X_train, X_test, y_train, y_test = train_test_split(reviews.quote, reviews.fresh.replace('fresh', 1).replace('rotten', 0), random_state = 12345, test_size=0.33)\n",
    "\n",
    "if __name__ == \"__main__\":\n",
    "    # multiprocessing requires the fork to happen in a __main__ protected\n",
    "    # block\n",
    "    \n",
    "    #finding best alpha and min_df\n",
    "\n",
    "    grid = GridSearchCV(pipeline, param_grid, n_jobs=-1, verbose=1)\n",
    "    grid.fit(X_train, y_train)\n",
    "    log_like = log_likelihood_score(grid, X_train, y_train)\n",
    "    print(log_like)\n",
    "    print('accuracy: ', grid.score(X_train, y_train))\n",
    "    print(\"pipeline:\", [name for name, _ in pipeline.steps])\n",
    "    best_parameters = grid.best_estimator_.get_params()\n",
    "    for param_name in sorted(param_grid.keys()):\n",
    "        print(\"\\tbest parameters for \", param_name)\n",
    "        print(\"\\t%s: %r\" % (param_name, best_parameters[param_name]))\n"
   ]
  },
  {
   "cell_type": "code",
   "execution_count": null,
   "metadata": {
    "collapsed": true
   },
   "outputs": [],
   "source": []
  },
  {
   "cell_type": "code",
   "execution_count": null,
   "metadata": {},
   "outputs": [],
   "source": []
  },
  {
   "cell_type": "markdown",
   "metadata": {},
   "source": [
    "### 3.3 Putting it together\n",
    "\n",
    "Now that you've determined values for alpha and min_df that optimize the cross-validated log-likelihood, repeat the steps in 2.1-2.3 to train a final classifier with these parameters and re-evaluate the accuracy.  Discuss the various ways in which Cross-Validation has affected the model. Is the new model more or less accurate? Is overfitting better or worse?"
   ]
  },
  {
   "cell_type": "code",
   "execution_count": 115,
   "metadata": {},
   "outputs": [
    {
     "name": "stdout",
     "output_type": "stream",
     "text": [
      "accuracy score of train data:  0.938739584556\n",
      "accuracy of predictions:  0.769597331427\n"
     ]
    }
   ],
   "source": [
    "vec = CountVectorizer(min_df=1e-05)\n",
    "X, Y = make_xy(reviews, vec)\n",
    "\n",
    "X_train, X_test, y_train, y_test = train_test_split(X, Y, random_state = 12345, test_size=0.33)\n",
    "\n",
    "fitted_model = MultinomialNB(alpha = 1)\n",
    "fitted_model.fit(X_train, y_train)\n",
    "print(\"accuracy score of train data: \", fitted_model.score(X_train, y_train))\n",
    "preds = fitted_model.predict(X_test)\n",
    "\n",
    "# preds score (percentage of the time that the predictions equal the data)\n",
    "accuracy = (preds == y_test).sum()/len(y_test)\n",
    "print(\"accuracy of predictions: \", accuracy)"
   ]
  },
  {
   "cell_type": "code",
   "execution_count": 135,
   "metadata": {},
   "outputs": [
    {
     "name": "stdout",
     "output_type": "stream",
     "text": [
      "(4197, 22268)\n"
     ]
    },
    {
     "data": {
      "text/plain": [
       "array([0, 1])"
      ]
     },
     "execution_count": 135,
     "metadata": {},
     "output_type": "execute_result"
    }
   ],
   "source": [
    "#Enter your code here\n",
    "print(X_test.shape)\n",
    "X_train.shape\n",
    "fitted_model.classes_"
   ]
  },
  {
   "cell_type": "markdown",
   "metadata": {},
   "source": [
    "This new model had slightly better predictions, but the same train data accuracy. May perhaps slightly better with handeling overfitting"
   ]
  },
  {
   "cell_type": "markdown",
   "metadata": {},
   "source": [
    "### 3.4 (Extra Credit)\n",
    "\n",
    "What happens if you tried this again using a function besides the log-likelihood -- for example, the classification accuracy?  Interpret these results"
   ]
  },
  {
   "cell_type": "code",
   "execution_count": 103,
   "metadata": {
    "collapsed": true
   },
   "outputs": [],
   "source": [
    "#Enter your code here"
   ]
  },
  {
   "cell_type": "markdown",
   "metadata": {},
   "source": [
    "*enter your observations here*"
   ]
  },
  {
   "cell_type": "markdown",
   "metadata": {},
   "source": [
    "### 3.5 Interpretation\n",
    "\n",
    "What words best predict a fresh or rotten review?  Using your classifier and the `vectorizer.get_feature_names` method, determine which words best predict a positive or negative review. Print the 10 words that best predict a \"fresh\" review, and the 10 words that best predict a \"rotten\" review. For each word, what is the model's probability of freshness if the word appears one time?\n",
    "\n",
    "#### Hints\n",
    "* In thinking about how to measure the impact of a word on freshness rating, consider computing the classification probability for a feature vector which consists of all 0s, except for a single 1. What does this probability refer to?\n",
    "* `numpy.identity` generates an identity matrix, where all values are zero except the diagonal elements which have a value of one"
   ]
  },
  {
   "cell_type": "code",
   "execution_count": 138,
   "metadata": {},
   "outputs": [],
   "source": [
    "# geting feature names\n",
    "words = vec.get_feature_names()\n",
    "\n",
    "# finding predicted propability using trained model and words\n",
    "i = np.identity(len(words))\n",
    "df = pd.DataFrame(i, columns = words)\n",
    "prop = fitted_model.predict_proba(df)  \n"
   ]
  },
  {
   "cell_type": "code",
   "execution_count": 258,
   "metadata": {},
   "outputs": [
    {
     "name": "stdout",
     "output_type": "stream",
     "text": [
      "Top 10 words that best predict fresh reviews\n",
      "        prop_rot  prop_fresh         word\n",
      "20145  0.023586    0.976414     touching\n",
      "4833   0.031203    0.968797      delight\n",
      "19142  0.032365    0.967635       superb\n",
      "2715   0.043767    0.956233     captures\n",
      "9182   0.043767    0.956233       honest\n",
      "19641  0.043767    0.956233       tender\n",
      "9921   0.046086    0.953914    innocence\n",
      "10026  0.047774    0.952226  intelligent\n",
      "5891   0.048665    0.951335  effectively\n",
      "17087  0.048665    0.951335    seductive\n",
      "\n",
      "Top 10 words that best predict rotten reviews\n",
      "        prop_rot  prop_fresh             word\n",
      "10833  0.942932    0.057068             lame\n",
      "14607  0.932949    0.067051        pointless\n",
      "20818  0.924097    0.075903          unfunny\n",
      "20845  0.918733    0.081267       uninspired\n",
      "5217   0.912553    0.087447  disappointingly\n",
      "17942  0.912553    0.087447         sluggish\n",
      "20815  0.912553    0.087447    unfortunately\n",
      "16684  0.905356    0.094644            sadly\n",
      "10805  0.886706    0.113294       lackluster\n",
      "11487  0.886706    0.113294        ludicrous\n"
     ]
    }
   ],
   "source": [
    "# puting predicted propabilites of each word in a dataframe for easier wrangeling \n",
    "props = pd.DataFrame(prop, columns = ['prop_rot', 'prop_fresh'])\n",
    "props['word'] = words\n",
    "print(\"Top 10 words that best predict fresh reviews\\n\",props.nlargest(10, 'prop_fresh'))\n",
    "print()\n",
    "print(\"Top 10 words that best predict rotten reviews\\n\",props.nlargest(10, 'prop_rot'))\n"
   ]
  },
  {
   "cell_type": "markdown",
   "metadata": {},
   "source": [
    "This is a really fun exercise, and good sanity check on my model! All of these words make sence to be in either a fresh or rotten review. I also included the predicted propability for a further sanity check.  "
   ]
  },
  {
   "cell_type": "markdown",
   "metadata": {},
   "source": [
    "### 3.6 Error Analysis\n",
    "\n",
    "One of the best sources for inspiration when trying to improve a model is to look at examples where the model performs poorly.  Find 5 fresh and rotten reviews where your model performs particularly poorly. Print each review.\n",
    "\n",
    "What do you notice about these mis-predictions? Naive Bayes classifiers assume that every word affects the probability independently of other words. In what way is this a bad assumption? In your answer, report your classifier's Freshness probability for the review \"This movie is not remarkable, touching, or superb in any way\"."
   ]
  },
  {
   "cell_type": "code",
   "execution_count": 233,
   "metadata": {},
   "outputs": [],
   "source": [
    "#Your code here\n",
    "\n",
    "# looks at all the words and eaching qote, and then gives a general rating based on the classified propability \n",
    "# of that word being in a fresh or rotten review\n",
    "new_lines = np.array(reviews.clean)\n",
    "ratings = []\n",
    "for line in new_lines: \n",
    "    r = 0\n",
    "    f = 0\n",
    "    for w in line.split():\n",
    "\n",
    "        value = props.loc[props.word == w]\n",
    "        if not value.word.empty:\n",
    "            v1 = value['prop_rot']\n",
    "            v2 = value['prop_fresh']\n",
    "            if(v1.item() > v2.item()):\n",
    "                r +=1\n",
    "            else:\n",
    "                f += 1\n",
    "    if(r > f):\n",
    "        rate = 0\n",
    "    else:\n",
    "        rate = 1\n",
    "        \n",
    "    ratings.append(rate)\n"
   ]
  },
  {
   "cell_type": "code",
   "execution_count": 256,
   "metadata": {},
   "outputs": [
    {
     "name": "stdout",
     "output_type": "stream",
     "text": [
      "INCORRECTLY CLASSIFIED RATINGS\n",
      "\n",
      "0 ) A gloomy specialeffects extravaganza filled with grotesque images generating fear and despair\n",
      "\n",
      "1 ) The movie is too pat and practiced to really be convincing and the progress of Ariels relationships with the two grumps seems dictated mostly by the needs of the screenplay\n",
      "\n",
      "2 ) Never escapes the queasy aura of Melrose Place just another story about beautiful people with small problems\n",
      "\n",
      "3 ) The malebashing taken to an extreme in Waiting to Exhale is starting to seem a little like crack for the female psyche exhilarating in the short term but ultimately crippling and dangerous\n",
      "\n",
      "4 ) With one possible exception none of its women is at all likable\n",
      "\n"
     ]
    }
   ],
   "source": [
    "# appends preds to reviews df\n",
    "reviews['pred'] = ratings\n",
    "reviews.fresh = reviews.fresh.replace('fresh', 1).replace('rotten', 0)\n",
    "\n",
    "# looking where preds and fresh ratings do not match \n",
    "df = reviews[reviews.pred != reviews.fresh]\n",
    "\n",
    "# printing incorrect ratings \n",
    "quotes = np.array(df.quote)\n",
    "print(\"INCORRECTLY CLASSIFIED RATINGS\")\n",
    "print()\n",
    "for i in range(0,5):\n",
    "    print(i, \")\", quotes[i])\n",
    "    print()"
   ]
  },
  {
   "cell_type": "markdown",
   "metadata": {},
   "source": [
    "These miss  predictions contain words that are highly rated fresh but in a rotten review or highly rated rotten by in a fresh review. This is because Niave Bayes calassifiers look at each word independtly and removes context. Context is a huge part of the english language; a way to compat this may be to bag multiple words, rather than singular words. The example review above would get fresh rating from the classifier because it contains a large number of fresh words. However, this would be wrong.  "
   ]
  },
  {
   "cell_type": "markdown",
   "metadata": {},
   "source": [
    "## Part 4: Principal Component Analysis\n",
    "\n",
    "Just when you thought you were *finally* done with the [Boston Housing Prices Data Set](http://archive.ics.uci.edu/ml/datasets/Housing), it has come back to haunt you for a few more minutes.  Make sure you're up and running as you were on the previous problem set:"
   ]
  },
  {
   "cell_type": "code",
   "execution_count": 2,
   "metadata": {
    "collapsed": true
   },
   "outputs": [],
   "source": [
    "from sklearn.decomposition import PCA\n",
    "from sklearn.datasets import load_boston\n",
    "bdata = load_boston()"
   ]
  },
  {
   "cell_type": "markdown",
   "metadata": {},
   "source": [
    "### 4.1 Remember the last problem set?\n",
    "\n",
    "Use matplotlib to create a scatter plot that shows the relationship between the median value of the home (y-axis) and the per-capita crime rate (x-axis).  Properly label your axes, and make sure that your graphic looks polished and professional.  If you didn't get full credit for this on the first problem set, get full credit this time!\n",
    "\n",
    "Then, just as you did on the previous problem set, use the [Linear Regression class](http://scikit-learn.org/stable/modules/generated/sklearn.linear_model.LinearRegression.html) from sklearn or the [OLS class](http://wiki.scipy.org/Cookbook/OLS) from SciPy to regress median housing price on average number of rooms per house.  Use a training set consisting of 66% of your instances to fit your regression model.  Report the RMSE on the training and test set."
   ]
  },
  {
   "cell_type": "code",
   "execution_count": null,
   "metadata": {
    "collapsed": true
   },
   "outputs": [],
   "source": [
    "# Enter your code here"
   ]
  },
  {
   "cell_type": "markdown",
   "metadata": {},
   "source": [
    "### 4.2 So many scatterplots!\n",
    "\n",
    "Choose 8 out of the 14 features of the housing data that you think are most interesting to study.  Create an 8x8 grid of scatterplots showing how each of these variables relate to each other.  You want to produce something that looks generally like [this image](http://iogas.net/wp-content/gallery/iogas-evaluation/scatterplot-matrix-point-density.png)."
   ]
  },
  {
   "cell_type": "code",
   "execution_count": 34,
   "metadata": {},
   "outputs": [
    {
     "data": {
      "image/png": "[encoded data removed]",
      "text/plain": [
       "<matplotlib.figure.Figure at 0xc4ccb70>"
      ]
     },
     "metadata": {},
     "output_type": "display_data"
    }
   ],
   "source": [
    "plt.figure(figsize=(12,12))\n",
    "for i in xrange(8):\n",
    "    for j in xrange(8):\n",
    "        plt.subplot(8, 8, i * 8 + j + 1)\n",
    "        # insert your code here"
   ]
  },
  {
   "cell_type": "markdown",
   "metadata": {},
   "source": [
    "### 4.3 PCA to the rescue\n",
    "\n",
    "Run principal component analysis using [PCA](http://scikit-learn.org/stable/modules/generated/sklearn.decomposition.PCA.html) from sklearn to find the first 12 principal components of your data.  Use only your training set (66% of the data), and use all features *except* the median housing price.  Create a figure showing how the amount of variance explained by your components increases as you increase the number of components from 1 to 12."
   ]
  },
  {
   "cell_type": "code",
   "execution_count": 34,
   "metadata": {
    "collapsed": true
   },
   "outputs": [],
   "source": [
    "# Enter your code here"
   ]
  },
  {
   "cell_type": "markdown",
   "metadata": {},
   "source": [
    "### 4.4 Visualizing the components\n",
    "\n",
    "Create a 1X3 grid containing three scatter plots of your training data:\n",
    "\n",
    "1. PCA 1 vs. PCA 2 (you will need to use `fit_transform` to project your training data onto these two components)\n",
    "2. PCA 1 (x-axis) vs. median housing value\n",
    "3. PCA 2 vs. median housing value"
   ]
  },
  {
   "cell_type": "code",
   "execution_count": 34,
   "metadata": {
    "collapsed": true
   },
   "outputs": [],
   "source": [
    "# Enter your code here"
   ]
  },
  {
   "cell_type": "markdown",
   "metadata": {},
   "source": [
    "### 4.5 Regression and PCA\n",
    "\n",
    "Using just the first Principal Component learned on the training data, project all of your data (including the test data) onto this 1-dimensional subspace using the `fit_transform` function.  Now, using your training data, fit a regression of median housing price on this first principal component of your data.  Report the RMSE of this regression for both the training and test set.  How do these results compare to your results from 4.1?  Interpret your results!"
   ]
  },
  {
   "cell_type": "code",
   "execution_count": 34,
   "metadata": {
    "collapsed": true
   },
   "outputs": [],
   "source": []
  },
  {
   "cell_type": "markdown",
   "metadata": {},
   "source": [
    "*Enter your observations here*"
   ]
  }
 ],
 "metadata": {
  "kernelspec": {
   "display_name": "Python 3",
   "language": "python",
   "name": "python3"
  },
  "language_info": {
   "codemirror_mode": {
    "name": "ipython",
    "version": 3
   },
   "file_extension": ".py",
   "mimetype": "text/x-python",
   "name": "python",
   "nbconvert_exporter": "python",
   "pygments_lexer": "ipython3",
   "version": "3.6.1"
  }
 },
 "nbformat": 4,
 "nbformat_minor": 1
}
